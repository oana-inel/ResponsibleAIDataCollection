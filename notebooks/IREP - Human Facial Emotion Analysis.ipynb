{
 "cells": [
  {
   "cell_type": "code",
   "execution_count": 1,
   "metadata": {
    "id": "IoIP7LvJmcYp"
   },
   "outputs": [],
   "source": [
    "#Imports and libraries\n",
    "\n",
    "import pandas as pd\n",
    "import numpy as np\n",
    "from numpy import linalg\n",
    "import random as rand\n",
    "import csv\n",
    "import matplotlib.pyplot as plt\n",
    "import scipy.stats as stats\n",
    "from scipy.stats import norm\n",
    "from sklearn import preprocessing\n",
    "import collections\n",
    "import math\n",
    "import statistics\n",
    "\n",
    "import sys  \n",
    "sys.path.insert(0, '../scripts')\n",
    "import krippendorff_alpha\n",
    "import bootstrap_workers\n",
    "\n",
    "sys.path.insert(0, '../scripts/xrr')\n",
    "from xrr.xrr_class import xRR\n",
    "\n",
    "import warnings\n",
    "warnings.filterwarnings('ignore')"
   ]
  },
  {
   "cell_type": "markdown",
   "metadata": {
    "id": "ZHGialJPnyYd"
   },
   "source": [
    "# Process experiment files and compute stats"
   ]
  },
  {
   "cell_type": "code",
   "execution_count": 2,
   "metadata": {
    "id": "d4ImM6TWnYO8"
   },
   "outputs": [],
   "source": [
    "#Read the data of the experiment\n",
    "#drop videos that are annotatated by a single rater; \n",
    "#drop videos that are not annotated in all four repetitions\n",
    "\n",
    "# To replicate the analysis, download the dataset from https://github.com/google-research-datasets/replication-dataset \n",
    "# and replace LINK_TO_SOURCE_FILE to the location of the dataset\n",
    "link1 = '../data/LINK_TO_SOURCE_FILE'\n",
    "\n",
    "repetitions = pd.read_csv(link1)\n",
    "\n",
    "repetition1 = repetitions[repetitions[\"platform\"] == \"Budapest\"]\n",
    "repetition2 = repetitions[repetitions[\"platform\"] == \"Mexico\"]\n",
    "repetition3 = repetitions[repetitions[\"platform\"] == \"KualaLumpur\"]\n",
    "repetition4 = repetitions[repetitions[\"platform\"] == \"International\"]\n",
    "\n",
    "repetition1 = repetition1[repetition1.duplicated('item_id\"', keep=False)]\n",
    "repetition2 = repetition2[repetition2.duplicated('item_id\"', keep=False)]\n",
    "repetition3 = repetition3[repetition3.duplicated('item_id\"', keep=False)]\n",
    "repetition4 = repetition4[repetition4.duplicated('item_id\"', keep=False)]\n",
    "\n",
    "items1 = (list(set(repetition1['item_id\"'])))\n",
    "items2 = (list(set(repetition2['item_id\"'])))\n",
    "items3 = (list(set(repetition3['item_id\"'])))\n",
    "items4 = (list(set(repetition4['item_id\"'])))\n",
    "d = [items1, items2, items3, items4]\n",
    "\n",
    "items = list(set.intersection(*map(set,d)))\n",
    "\n",
    "repetition1 = repetition1[repetition1['item_id\"'].isin(items)]\n",
    "repetition2 = repetition2[repetition2['item_id\"'].isin(items)]\n",
    "repetition3 = repetition3[repetition3['item_id\"'].isin(items)]\n",
    "repetition4 = repetition4[repetition4['item_id\"'].isin(items)]\n",
    "\n",
    "reps = [repetition1, repetition2, repetition3, repetition4]\n",
    "repsdf = pd.concat(reps)\n",
    "repsdf.to_csv(\"../data/IREP_cleaned_data_release.csv\", index=False)"
   ]
  },
  {
   "cell_type": "code",
   "execution_count": 3,
   "metadata": {
    "colab": {
     "base_uri": "https://localhost:8080/"
    },
    "id": "VLsXJmSKUIkB",
    "outputId": "9af12ef8-266f-4545-f066-808575722f55",
    "scrolled": true
   },
   "outputs": [
    {
     "name": "stdout",
     "output_type": "stream",
     "text": [
      "Number of judgments in repetition Budapest:  2130\n",
      "Number of judgments in repetition Mexico:  2130\n",
      "Number of judgments in repetition KualaLumpur:  2130\n",
      "Number of judgments in repetition International:  2130\n"
     ]
    }
   ],
   "source": [
    "#Get statistics about the number of judgments\n",
    "print(\"Number of judgments in repetition Budapest: \", len(repetition1))\n",
    "print(\"Number of judgments in repetition Mexico: \", len(repetition2))\n",
    "print(\"Number of judgments in repetition KualaLumpur: \", len(repetition3))\n",
    "print(\"Number of judgments in repetition International: \", len(repetition4))"
   ]
  },
  {
   "cell_type": "code",
   "execution_count": 4,
   "metadata": {
    "cellView": "form",
    "colab": {
     "base_uri": "https://localhost:8080/"
    },
    "id": "zQ9ZheZQnxTE",
    "outputId": "cd2c8785-68e6-4529-e306-e7f5db21d0c9"
   },
   "outputs": [
    {
     "name": "stdout",
     "output_type": "stream",
     "text": [
      "Number of workers in repetition Budapest:  2\n",
      "Number of workers in repetition Mexico:  2\n",
      "Number of workers in repetition KualaLumpur:  2\n",
      "Number of workers in repetition International:  2\n"
     ]
    }
   ],
   "source": [
    "#Get rater ids and the total number of raters per repetition\n",
    "workerIds1 = list(set(list(repetition1[\"rater\"])))\n",
    "workerIds2 = list(set(list(repetition2[\"rater\"])))\n",
    "workerIds3 = list(set(list(repetition3[\"rater\"])))\n",
    "workerIds4 = list(set(list(repetition4[\"rater\"])))\n",
    "\n",
    "print(\"Number of workers in repetition Budapest: \", len(workerIds1))\n",
    "print(\"Number of workers in repetition Mexico: \", len(workerIds2))\n",
    "print(\"Number of workers in repetition KualaLumpur: \", len(workerIds3))\n",
    "print(\"Number of workers in repetition International: \", len(workerIds4))\n"
   ]
  },
  {
   "cell_type": "markdown",
   "metadata": {},
   "source": [
    "# Agreement Analysis"
   ]
  },
  {
   "cell_type": "code",
   "execution_count": 5,
   "metadata": {
    "colab": {
     "base_uri": "https://localhost:8080/"
    },
    "id": "FEkLYiGEPMIb",
    "outputId": "9719ebad-71cd-47a5-add8-c7f6ad3c4fec"
   },
   "outputs": [
    {
     "name": "stdout",
     "output_type": "stream",
     "text": [
      "amusement\n",
      "Krippendorff's alpha Repetition Budapest:  0.4228\n",
      "Krippendorff's alpha Repetition Mexico:  0.1244\n",
      "Krippendorff's alpha Repetition KualaLumpur:  0.6561\n",
      "Krippendorff's alpha Repetition International:  0.2707\n",
      "anger\n",
      "Krippendorff's alpha Repetition Budapest:  0.4548\n",
      "Krippendorff's alpha Repetition Mexico:  0.3903\n",
      "Krippendorff's alpha Repetition KualaLumpur:  0.7216\n",
      "Krippendorff's alpha Repetition International:  0.4442\n",
      "awe\n",
      "Krippendorff's alpha Repetition Budapest:  0.2508\n",
      "Krippendorff's alpha Repetition Mexico:  0.1917\n",
      "Krippendorff's alpha Repetition KualaLumpur:  0.2532\n",
      "Krippendorff's alpha Repetition International:  0.0905\n",
      "boredom\n",
      "Krippendorff's alpha Repetition Budapest:  0.4947\n",
      "Krippendorff's alpha Repetition Mexico:  0.3825\n",
      "Krippendorff's alpha Repetition KualaLumpur:  0.5825\n",
      "Krippendorff's alpha Repetition International:  0.2981\n",
      "concentration\n",
      "Krippendorff's alpha Repetition Budapest:  0.3378\n",
      "Krippendorff's alpha Repetition Mexico:  0.397\n",
      "Krippendorff's alpha Repetition KualaLumpur:  0.5601\n",
      "Krippendorff's alpha Repetition International:  0.2147\n",
      "confusion\n",
      "Krippendorff's alpha Repetition Budapest:  0.2335\n",
      "Krippendorff's alpha Repetition Mexico:  0.2248\n",
      "Krippendorff's alpha Repetition KualaLumpur:  0.4147\n",
      "Krippendorff's alpha Repetition International:  0.1282\n",
      "contemplation\n",
      "Krippendorff's alpha Repetition Budapest:  0.1284\n",
      "Krippendorff's alpha Repetition Mexico:  0.087\n",
      "Krippendorff's alpha Repetition KualaLumpur:  0.6367\n",
      "Krippendorff's alpha Repetition International:  0.1005\n",
      "contempt\n",
      "Krippendorff's alpha Repetition Budapest:  0.1561\n",
      "Krippendorff's alpha Repetition Mexico:  0.2389\n",
      "Krippendorff's alpha Repetition KualaLumpur:  0.5336\n",
      "Krippendorff's alpha Repetition International:  0.1116\n",
      "contentment\n",
      "Krippendorff's alpha Repetition Budapest:  0.2313\n",
      "Krippendorff's alpha Repetition Mexico:  0.5048\n",
      "Krippendorff's alpha Repetition KualaLumpur:  0.707\n",
      "Krippendorff's alpha Repetition International:  0.1005\n",
      "desire\n",
      "Krippendorff's alpha Repetition Budapest:  0.5409\n",
      "Krippendorff's alpha Repetition Mexico:  0.6925\n",
      "Krippendorff's alpha Repetition KualaLumpur:  0.8296\n",
      "Krippendorff's alpha Repetition International:  0.1405\n",
      "disappointment\n",
      "Krippendorff's alpha Repetition Budapest:  0.1907\n",
      "Krippendorff's alpha Repetition Mexico:  0.1755\n",
      "Krippendorff's alpha Repetition KualaLumpur:  0.6195\n",
      "Krippendorff's alpha Repetition International:  0.161\n",
      "disgust\n",
      "Krippendorff's alpha Repetition Budapest:  0.5223\n",
      "Krippendorff's alpha Repetition Mexico:  0.2042\n",
      "Krippendorff's alpha Repetition KualaLumpur:  0.4963\n",
      "Krippendorff's alpha Repetition International:  0.1391\n",
      "distress\n",
      "Krippendorff's alpha Repetition Budapest:  0.0804\n",
      "Krippendorff's alpha Repetition Mexico:  0.0962\n",
      "Krippendorff's alpha Repetition KualaLumpur:  0.2577\n",
      "Krippendorff's alpha Repetition International:  0.1327\n",
      "doubt\n",
      "Krippendorff's alpha Repetition Budapest:  0.1918\n",
      "Krippendorff's alpha Repetition Mexico:  0.1812\n",
      "Krippendorff's alpha Repetition KualaLumpur:  0.2193\n",
      "Krippendorff's alpha Repetition International:  -0.0212\n",
      "ecstasy\n",
      "Krippendorff's alpha Repetition Budapest:  0.13\n",
      "Krippendorff's alpha Repetition Mexico:  0.2389\n",
      "Krippendorff's alpha Repetition KualaLumpur:  0.4993\n",
      "Krippendorff's alpha Repetition International:  0.1692\n",
      "elation\n",
      "Krippendorff's alpha Repetition Budapest:  0.1246\n",
      "Krippendorff's alpha Repetition Mexico:  0.2053\n",
      "Krippendorff's alpha Repetition KualaLumpur:  0.6557\n",
      "Krippendorff's alpha Repetition International:  0.1501\n",
      "embarrassment\n",
      "Krippendorff's alpha Repetition Budapest:  0.1873\n",
      "Krippendorff's alpha Repetition Mexico:  -0.0071\n",
      "Krippendorff's alpha Repetition KualaLumpur:  0.2813\n",
      "Krippendorff's alpha Repetition International:  0.0636\n",
      "error.other\n",
      "Krippendorff's alpha Repetition Budapest:  1.0\n",
      "Krippendorff's alpha Repetition Mexico:  1.0\n",
      "Krippendorff's alpha Repetition KualaLumpur:  1.0\n",
      "Krippendorff's alpha Repetition International:  0.2757\n",
      "fear\n",
      "Krippendorff's alpha Repetition Budapest:  0.4292\n",
      "Krippendorff's alpha Repetition Mexico:  0.3609\n",
      "Krippendorff's alpha Repetition KualaLumpur:  0.6712\n",
      "Krippendorff's alpha Repetition International:  0.3065\n",
      "interest\n",
      "Krippendorff's alpha Repetition Budapest:  0.2161\n",
      "Krippendorff's alpha Repetition Mexico:  0.0843\n",
      "Krippendorff's alpha Repetition KualaLumpur:  0.4375\n",
      "Krippendorff's alpha Repetition International:  0.1326\n",
      "love\n",
      "Krippendorff's alpha Repetition Budapest:  0.6609\n",
      "Krippendorff's alpha Repetition Mexico:  0.608\n",
      "Krippendorff's alpha Repetition KualaLumpur:  0.7187\n",
      "Krippendorff's alpha Repetition International:  0.3241\n",
      "neutral\n",
      "Krippendorff's alpha Repetition Budapest:  0.4124\n",
      "Krippendorff's alpha Repetition Mexico:  0.1536\n",
      "Krippendorff's alpha Repetition KualaLumpur:  0.4984\n",
      "Krippendorff's alpha Repetition International:  0.1349\n",
      "pain\n",
      "Krippendorff's alpha Repetition Budapest:  0.149\n",
      "Krippendorff's alpha Repetition Mexico:  0.4423\n",
      "Krippendorff's alpha Repetition KualaLumpur:  0.4585\n",
      "Krippendorff's alpha Repetition International:  0.1335\n",
      "pride\n",
      "Krippendorff's alpha Repetition Budapest:  0.1687\n",
      "Krippendorff's alpha Repetition Mexico:  0.0695\n",
      "Krippendorff's alpha Repetition KualaLumpur:  0.3903\n",
      "Krippendorff's alpha Repetition International:  0.1705\n",
      "realization\n",
      "Krippendorff's alpha Repetition Budapest:  0.0892\n",
      "Krippendorff's alpha Repetition Mexico:  -0.0028\n",
      "Krippendorff's alpha Repetition KualaLumpur:  0.3318\n",
      "Krippendorff's alpha Repetition International:  0.034\n",
      "relief\n",
      "Krippendorff's alpha Repetition Budapest:  0.1693\n",
      "Krippendorff's alpha Repetition Mexico:  0.2813\n",
      "Krippendorff's alpha Repetition KualaLumpur:  0.5327\n",
      "Krippendorff's alpha Repetition International:  0.0451\n",
      "sadness\n",
      "Krippendorff's alpha Repetition Budapest:  0.509\n",
      "Krippendorff's alpha Repetition Mexico:  0.4449\n",
      "Krippendorff's alpha Repetition KualaLumpur:  0.54\n",
      "Krippendorff's alpha Repetition International:  0.2249\n",
      "shame\n",
      "Krippendorff's alpha Repetition Budapest:  -0.0057\n",
      "Krippendorff's alpha Repetition Mexico:  -0.0024\n",
      "Krippendorff's alpha Repetition KualaLumpur:  0.0\n",
      "Krippendorff's alpha Repetition International:  0.1746\n",
      "surprise\n",
      "Krippendorff's alpha Repetition Budapest:  0.3514\n",
      "Krippendorff's alpha Repetition Mexico:  0.4378\n",
      "Krippendorff's alpha Repetition KualaLumpur:  0.6675\n",
      "Krippendorff's alpha Repetition International:  0.2031\n",
      "sympathy\n",
      "Krippendorff's alpha Repetition Budapest:  0.1883\n",
      "Krippendorff's alpha Repetition Mexico:  0.0695\n",
      "Krippendorff's alpha Repetition KualaLumpur:  0.5064\n",
      "Krippendorff's alpha Repetition International:  -0.0216\n",
      "triumph\n",
      "Krippendorff's alpha Repetition Budapest:  0.4161\n",
      "Krippendorff's alpha Repetition Mexico:  0.216\n",
      "Krippendorff's alpha Repetition KualaLumpur:  0.2813\n",
      "Krippendorff's alpha Repetition International:  0.0804\n",
      "unsure\n",
      "Krippendorff's alpha Repetition Budapest:  0.6067\n",
      "Krippendorff's alpha Repetition Mexico:  0.5522\n",
      "Krippendorff's alpha Repetition KualaLumpur:  -0.0019\n",
      "Krippendorff's alpha Repetition International:  1.0\n"
     ]
    }
   ],
   "source": [
    "#compute Krippendorff's alpha for each repetition and emotion\n",
    "missing = \"*\"\n",
    "\n",
    "emotions = [\"amusement\", \"anger\", \"awe\", \"boredom\", \"concentration\", \"confusion\", \"contemplation\", 'contempt',\n",
    " 'contentment', 'desire', 'disappointment', 'disgust', 'distress', 'doubt', 'ecstasy', 'elation', 'embarrassment',\n",
    " 'error.other', 'fear', 'interest', 'love', 'neutral', \"pain\", \"pride\", \"realization\", \"relief\", \"sadness\",\n",
    " \"shame\", \"surprise\", \"sympathy\", \"triumph\", \"unsure\"]\n",
    "\n",
    "\n",
    "repetition1 = repetition1.sort_values('item_id\"')\n",
    "repetition2 = repetition2.sort_values('item_id\"')\n",
    "repetition3 = repetition3.sort_values('item_id\"')\n",
    "repetition4 = repetition4.sort_values('item_id\"')\n",
    "\n",
    "def compute_agreement(repetition, worker_set, emotion):\n",
    "    data = []\n",
    "    for rater in worker_set:\n",
    "        subset = repetition[repetition[\"rater\"] == rater]\n",
    "        row = list(subset[emotion])\n",
    "        data.append(row)   \n",
    "    alpha = krippendorff_alpha.krippendorff_alpha(data, missing_items=missing)\n",
    "    return alpha\n",
    "    \n",
    "\n",
    "for emotion in emotions:\n",
    "    print(emotion)\n",
    "    alpha = compute_agreement(repetition1, workerIds1, emotion)\n",
    "    print(\"Krippendorff's alpha Repetition Budapest: \", round(alpha, 4))\n",
    "\n",
    "    alpha = compute_agreement(repetition2, workerIds2, emotion)\n",
    "    print(\"Krippendorff's alpha Repetition Mexico: \", round(alpha, 4))\n",
    "\n",
    "    alpha = compute_agreement(repetition3, workerIds3, emotion)\n",
    "    print(\"Krippendorff's alpha Repetition KualaLumpur: \", round(alpha, 4))\n",
    "\n",
    "    alpha = compute_agreement(repetition4, workerIds4, emotion)\n",
    "    print(\"Krippendorff's alpha Repetition International: \", round(alpha, 4))\n"
   ]
  },
  {
   "cell_type": "code",
   "execution_count": 6,
   "metadata": {
    "colab": {
     "base_uri": "https://localhost:8080/"
    },
    "id": "mpcy5NXkrCn0",
    "outputId": "034498c1-a975-48b7-dfb5-5c7bba9d9d42"
   },
   "outputs": [
    {
     "name": "stdout",
     "output_type": "stream",
     "text": [
      "Agreement for  Repetition 1\n",
      "Statistics for dataset using <function masi_distance at 0x7fa59b8d7b00>\n",
      "Pi: 0.2513\n",
      "Kappa: 0.2517\n",
      "Multi-Kappa: 0.2517\n",
      "Statistics for dataset using <function jaccard_distance at 0x7fa59b8d7a70>\n",
      "Pi: 0.2956\n",
      "Kappa: 0.296\n",
      "Multi-Kappa: 0.296\n",
      "\n",
      "\n",
      "Agreement for  Repetition 2\n",
      "Statistics for dataset using <function masi_distance at 0x7fa59b8d7b00>\n",
      "Pi: 0.2243\n",
      "Kappa: 0.2284\n",
      "Multi-Kappa: 0.2284\n",
      "Statistics for dataset using <function jaccard_distance at 0x7fa59b8d7a70>\n",
      "Pi: 0.2834\n",
      "Kappa: 0.2872\n",
      "Multi-Kappa: 0.2872\n",
      "\n",
      "\n",
      "Agreement for  Repetition 3\n",
      "Statistics for dataset using <function masi_distance at 0x7fa59b8d7b00>\n",
      "Pi: 0.4904\n",
      "Kappa: 0.4909\n",
      "Multi-Kappa: 0.4909\n",
      "Statistics for dataset using <function jaccard_distance at 0x7fa59b8d7a70>\n",
      "Pi: 0.5684\n",
      "Kappa: 0.5688\n",
      "Multi-Kappa: 0.5688\n",
      "\n",
      "\n",
      "Agreement for  Repetition 4\n",
      "Statistics for dataset using <function masi_distance at 0x7fa59b8d7b00>\n",
      "Pi: 0.1334\n",
      "Kappa: 0.1337\n",
      "Multi-Kappa: 0.1337\n",
      "Statistics for dataset using <function jaccard_distance at 0x7fa59b8d7a70>\n",
      "Pi: 0.1884\n",
      "Kappa: 0.1888\n",
      "Multi-Kappa: 0.1888\n",
      "\n",
      "\n"
     ]
    }
   ],
   "source": [
    "#compute IRR of the entire dataset\n",
    "\n",
    "import nltk\n",
    "from nltk.metrics import agreement\n",
    "from nltk.metrics.distance import masi_distance\n",
    "from nltk.metrics.distance import jaccard_distance\n",
    "\n",
    "\n",
    "def compute_full_experiment_agreement(repetition, repetition_index):\n",
    "    data = []\n",
    "    for i in range(len(repetition)):\n",
    "        c_emotions = []\n",
    "        for emotion in emotions:\n",
    "            if repetition[emotion].iloc[i] == 1:\n",
    "                c_emotions.append(emotion)\n",
    "        data_tuple = (repetition[\"rater\"].iloc[i], repetition['item_id\"'].iloc[i], frozenset(c_emotions))\n",
    "        data.append(data_tuple)\n",
    "\n",
    "    jaccard_task = nltk.AnnotationTask(distance=jaccard_distance)\n",
    "    masi_task = nltk.AnnotationTask(distance=masi_distance)\n",
    "    tasks = [masi_task, jaccard_task]\n",
    "    print(\"Agreement for \", repetition_index)\n",
    "    for task in tasks:\n",
    "        task.load_array(data)\n",
    "        print(\"Statistics for dataset using {}\".format(task.distance))\n",
    "        print(\"Pi: {}\".format(round(task.pi(), 4)))\n",
    "        print(\"Kappa: {}\".format(round(task.kappa(), 4)))\n",
    "        print(\"Multi-Kappa: {}\".format(round(task.multi_kappa(), 4)))\n",
    "    print(\"\\n\")\n",
    "\n",
    "compute_full_experiment_agreement(repetition1, \"Repetition 1\")\n",
    "compute_full_experiment_agreement(repetition2, \"Repetition 2\")\n",
    "compute_full_experiment_agreement(repetition3, \"Repetition 3\")\n",
    "compute_full_experiment_agreement(repetition4, \"Repetition 4\")"
   ]
  },
  {
   "cell_type": "markdown",
   "metadata": {},
   "source": [
    "# Stability Analysis"
   ]
  },
  {
   "cell_type": "code",
   "execution_count": 7,
   "metadata": {
    "id": "oOMyb2PLxY1M"
   },
   "outputs": [],
   "source": [
    "#Process the results of all repetitions and compute stats (mean, stdev, variance)\n",
    "\n",
    "import statistics as sts\n",
    "\n",
    "emotions = [\"amusement\", \"anger\", \"awe\", \"boredom\", \"concentration\", \"confusion\", \"contemplation\", 'contempt',\n",
    " 'contentment', 'desire', 'disappointment', 'disgust', 'distress', 'doubt', 'ecstasy', 'elation', 'embarrassment',\n",
    " 'error.other', 'fear', 'interest', 'love', 'neutral', \"pain\", \"pride\", \"realization\", \"relief\", \"sadness\",\n",
    " \"shame\", \"surprise\", \"sympathy\", \"triumph\", \"unsure\"]\n",
    "\n",
    "columns = [\"item_id\", \"emotion\", \"Mean 1\", \"Stdev 1\", \"Variance 1\", \"Mean 2\", \"Stdev 2\", \"Variance 2\",\n",
    "           \"Mean 3\", \"Stdev 3\", \"Variance 3\", \"Mean 4\", \"Stdev 4\", \"Variance 4\"]\n",
    "data = []\n",
    "for item in items:\n",
    "    sub1 = repetition1[repetition1['item_id\"'] == item]\n",
    "    sub2 = repetition2[repetition2['item_id\"'] == item]\n",
    "    sub3 = repetition3[repetition3['item_id\"'] == item]\n",
    "    sub4 = repetition4[repetition4['item_id\"'] == item]\n",
    "\n",
    "    for emotion in emotions:\n",
    "        row = [item, emotion, sum(sub1[emotion])/2, sts.stdev(sub1[emotion]), sts.variance(sub1[emotion]),\n",
    "           sum(sub2[emotion])/2, sts.stdev(sub2[emotion]), sts.variance(sub2[emotion]),\n",
    "           sum(sub3[emotion])/2, sts.stdev(sub3[emotion]), sts.variance(sub3[emotion]),\n",
    "           sum(sub4[emotion])/2, sts.stdev(sub4[emotion]), sts.variance(sub4[emotion])]\n",
    "\n",
    "        data.append(row)\n",
    "\n",
    "datadf = pd.DataFrame(data, columns = columns)\n",
    "datadf\n",
    "\n",
    "datadf.to_csv(\"../data/IREP_stats.csv\", index=False)"
   ]
  },
  {
   "cell_type": "code",
   "execution_count": 8,
   "metadata": {
    "cellView": "form",
    "colab": {
     "base_uri": "https://localhost:8080/"
    },
    "id": "prKCd-cKxuxO",
    "outputId": "229fef4f-1306-4795-8511-4f8a83b27a53"
   },
   "outputs": [
    {
     "name": "stdout",
     "output_type": "stream",
     "text": [
      "amusement\n",
      "Spearman's rank correlation between repetition  1  & repetition  2 : 0.4545 0.0\n",
      "Spearman's rank correlation between repetition  1  & repetition  3 : 0.602 0.0\n",
      "Spearman's rank correlation between repetition  1  & repetition  4 : 0.429 0.0\n",
      "Spearman's rank correlation between repetition  2  & repetition  3 : 0.3762 0.0\n",
      "Spearman's rank correlation between repetition  2  & repetition  4 : 0.3896 0.0\n",
      "Spearman's rank correlation between repetition  3  & repetition  4 : 0.4189 0.0\n",
      "anger\n",
      "Spearman's rank correlation between repetition  1  & repetition  2 : 0.4898 0.0\n",
      "Spearman's rank correlation between repetition  1  & repetition  3 : 0.535 0.0\n",
      "Spearman's rank correlation between repetition  1  & repetition  4 : 0.4369 0.0\n",
      "Spearman's rank correlation between repetition  2  & repetition  3 : 0.5182 0.0\n",
      "Spearman's rank correlation between repetition  2  & repetition  4 : 0.5017 0.0\n",
      "Spearman's rank correlation between repetition  3  & repetition  4 : 0.5469 0.0\n",
      "awe\n",
      "Spearman's rank correlation between repetition  1  & repetition  2 : 0.1983 0.0\n",
      "Spearman's rank correlation between repetition  1  & repetition  3 : 0.0978 0.0014\n",
      "Spearman's rank correlation between repetition  1  & repetition  4 : 0.0689 0.0244\n",
      "Spearman's rank correlation between repetition  2  & repetition  3 : 0.1525 0.0\n",
      "Spearman's rank correlation between repetition  2  & repetition  4 : 0.0741 0.0155\n",
      "Spearman's rank correlation between repetition  3  & repetition  4 : 0.13 0.0\n",
      "boredom\n",
      "Spearman's rank correlation between repetition  1  & repetition  2 : 0.343 0.0\n",
      "Spearman's rank correlation between repetition  1  & repetition  3 : 0.5049 0.0\n",
      "Spearman's rank correlation between repetition  1  & repetition  4 : 0.3361 0.0\n",
      "Spearman's rank correlation between repetition  2  & repetition  3 : 0.4513 0.0\n",
      "Spearman's rank correlation between repetition  2  & repetition  4 : 0.3082 0.0\n",
      "Spearman's rank correlation between repetition  3  & repetition  4 : 0.3411 0.0\n",
      "concentration\n",
      "Spearman's rank correlation between repetition  1  & repetition  2 : 0.3687 0.0\n",
      "Spearman's rank correlation between repetition  1  & repetition  3 : 0.3564 0.0\n",
      "Spearman's rank correlation between repetition  1  & repetition  4 : 0.2954 0.0\n",
      "Spearman's rank correlation between repetition  2  & repetition  3 : 0.5077 0.0\n",
      "Spearman's rank correlation between repetition  2  & repetition  4 : 0.4145 0.0\n",
      "Spearman's rank correlation between repetition  3  & repetition  4 : 0.3918 0.0\n",
      "confusion\n",
      "Spearman's rank correlation between repetition  1  & repetition  2 : 0.2982 0.0\n",
      "Spearman's rank correlation between repetition  1  & repetition  3 : 0.2715 0.0\n",
      "Spearman's rank correlation between repetition  1  & repetition  4 : 0.248 0.0\n",
      "Spearman's rank correlation between repetition  2  & repetition  3 : 0.3727 0.0\n",
      "Spearman's rank correlation between repetition  2  & repetition  4 : 0.196 0.0\n",
      "Spearman's rank correlation between repetition  3  & repetition  4 : 0.3168 0.0\n",
      "contemplation\n",
      "Spearman's rank correlation between repetition  1  & repetition  2 : 0.1463 0.0\n",
      "Spearman's rank correlation between repetition  1  & repetition  3 : 0.0833 0.0065\n",
      "Spearman's rank correlation between repetition  1  & repetition  4 : 0.1374 0.0\n",
      "Spearman's rank correlation between repetition  2  & repetition  3 : 0.0495 0.1066\n",
      "Spearman's rank correlation between repetition  2  & repetition  4 : 0.0995 0.0011\n",
      "Spearman's rank correlation between repetition  3  & repetition  4 : 0.1519 0.0\n",
      "contempt\n",
      "Spearman's rank correlation between repetition  1  & repetition  2 : 0.1412 0.0\n",
      "Spearman's rank correlation between repetition  1  & repetition  3 : 0.2351 0.0\n",
      "Spearman's rank correlation between repetition  1  & repetition  4 : 0.2263 0.0\n",
      "Spearman's rank correlation between repetition  2  & repetition  3 : 0.2816 0.0\n",
      "Spearman's rank correlation between repetition  2  & repetition  4 : 0.1288 0.0\n",
      "Spearman's rank correlation between repetition  3  & repetition  4 : 0.1553 0.0\n",
      "contentment\n",
      "Spearman's rank correlation between repetition  1  & repetition  2 : 0.4332 0.0\n",
      "Spearman's rank correlation between repetition  1  & repetition  3 : -0.0216 0.4819\n",
      "Spearman's rank correlation between repetition  1  & repetition  4 : 0.1277 0.0\n",
      "Spearman's rank correlation between repetition  2  & repetition  3 : -0.093 0.0024\n",
      "Spearman's rank correlation between repetition  2  & repetition  4 : 0.1268 0.0\n",
      "Spearman's rank correlation between repetition  3  & repetition  4 : 0.1898 0.0\n",
      "desire\n",
      "Spearman's rank correlation between repetition  1  & repetition  2 : 0.5109 0.0\n",
      "Spearman's rank correlation between repetition  1  & repetition  3 : 0.5131 0.0\n",
      "Spearman's rank correlation between repetition  1  & repetition  4 : 0.2768 0.0\n",
      "Spearman's rank correlation between repetition  2  & repetition  3 : 0.6333 0.0\n",
      "Spearman's rank correlation between repetition  2  & repetition  4 : 0.2541 0.0\n",
      "Spearman's rank correlation between repetition  3  & repetition  4 : 0.3077 0.0\n",
      "disappointment\n",
      "Spearman's rank correlation between repetition  1  & repetition  2 : 0.164 0.0\n",
      "Spearman's rank correlation between repetition  1  & repetition  3 : 0.2337 0.0\n",
      "Spearman's rank correlation between repetition  1  & repetition  4 : 0.1363 0.0\n",
      "Spearman's rank correlation between repetition  2  & repetition  3 : 0.3026 0.0\n",
      "Spearman's rank correlation between repetition  2  & repetition  4 : 0.1188 0.0001\n",
      "Spearman's rank correlation between repetition  3  & repetition  4 : 0.1749 0.0\n",
      "disgust\n",
      "Spearman's rank correlation between repetition  1  & repetition  2 : 0.2584 0.0\n",
      "Spearman's rank correlation between repetition  1  & repetition  3 : 0.2809 0.0\n",
      "Spearman's rank correlation between repetition  1  & repetition  4 : 0.2201 0.0\n",
      "Spearman's rank correlation between repetition  2  & repetition  3 : 0.2984 0.0\n",
      "Spearman's rank correlation between repetition  2  & repetition  4 : 0.2267 0.0\n",
      "Spearman's rank correlation between repetition  3  & repetition  4 : 0.2148 0.0\n",
      "distress\n",
      "Spearman's rank correlation between repetition  1  & repetition  2 : 0.1932 0.0\n",
      "Spearman's rank correlation between repetition  1  & repetition  3 : 0.2207 0.0\n",
      "Spearman's rank correlation between repetition  1  & repetition  4 : 0.1688 0.0\n",
      "Spearman's rank correlation between repetition  2  & repetition  3 : 0.1737 0.0\n",
      "Spearman's rank correlation between repetition  2  & repetition  4 : 0.188 0.0\n",
      "Spearman's rank correlation between repetition  3  & repetition  4 : 0.1955 0.0\n",
      "doubt\n",
      "Spearman's rank correlation between repetition  1  & repetition  2 : 0.1815 0.0\n",
      "Spearman's rank correlation between repetition  1  & repetition  3 : 0.0229 0.4562\n",
      "Spearman's rank correlation between repetition  1  & repetition  4 : 0.0204 0.5058\n",
      "Spearman's rank correlation between repetition  2  & repetition  3 : 0.0892 0.0036\n",
      "Spearman's rank correlation between repetition  2  & repetition  4 : 0.037 0.2275\n",
      "Spearman's rank correlation between repetition  3  & repetition  4 : 0.0126 0.6815\n",
      "ecstasy\n",
      "Spearman's rank correlation between repetition  1  & repetition  2 : 0.2215 0.0\n",
      "Spearman's rank correlation between repetition  1  & repetition  3 : 0.0849 0.0056\n",
      "Spearman's rank correlation between repetition  1  & repetition  4 : 0.1312 0.0\n",
      "Spearman's rank correlation between repetition  2  & repetition  3 : -0.0087 0.7759\n",
      "Spearman's rank correlation between repetition  2  & repetition  4 : 0.1456 0.0\n",
      "Spearman's rank correlation between repetition  3  & repetition  4 : -0.0143 0.6409\n",
      "elation\n",
      "Spearman's rank correlation between repetition  1  & repetition  2 : 0.2861 0.0\n",
      "Spearman's rank correlation between repetition  1  & repetition  3 : 0.3584 0.0\n",
      "Spearman's rank correlation between repetition  1  & repetition  4 : 0.1824 0.0\n",
      "Spearman's rank correlation between repetition  2  & repetition  3 : 0.398 0.0\n",
      "Spearman's rank correlation between repetition  2  & repetition  4 : 0.3611 0.0\n",
      "Spearman's rank correlation between repetition  3  & repetition  4 : 0.2562 0.0\n",
      "embarrassment\n",
      "Spearman's rank correlation between repetition  1  & repetition  2 : 0.1414 0.0\n",
      "Spearman's rank correlation between repetition  1  & repetition  3 : 0.2085 0.0\n",
      "Spearman's rank correlation between repetition  1  & repetition  4 : 0.1235 0.0001\n",
      "Spearman's rank correlation between repetition  2  & repetition  3 : 0.2066 0.0\n",
      "Spearman's rank correlation between repetition  2  & repetition  4 : 0.1183 0.0001\n",
      "Spearman's rank correlation between repetition  3  & repetition  4 : 0.0759 0.0132\n",
      "error.other\n",
      "Spearman's rank correlation between repetition  1  & repetition  2 : nan nan\n",
      "Spearman's rank correlation between repetition  1  & repetition  3 : nan nan\n",
      "Spearman's rank correlation between repetition  1  & repetition  4 : nan nan\n",
      "Spearman's rank correlation between repetition  2  & repetition  3 : nan nan\n",
      "Spearman's rank correlation between repetition  2  & repetition  4 : nan nan\n",
      "Spearman's rank correlation between repetition  3  & repetition  4 : nan nan\n",
      "fear\n",
      "Spearman's rank correlation between repetition  1  & repetition  2 : 0.5044 0.0\n",
      "Spearman's rank correlation between repetition  1  & repetition  3 : 0.5312 0.0\n",
      "Spearman's rank correlation between repetition  1  & repetition  4 : 0.3811 0.0\n",
      "Spearman's rank correlation between repetition  2  & repetition  3 : 0.6976 0.0\n",
      "Spearman's rank correlation between repetition  2  & repetition  4 : 0.4555 0.0\n",
      "Spearman's rank correlation between repetition  3  & repetition  4 : 0.4849 0.0\n",
      "interest\n",
      "Spearman's rank correlation between repetition  1  & repetition  2 : 0.2617 0.0\n",
      "Spearman's rank correlation between repetition  1  & repetition  3 : 0.2387 0.0\n",
      "Spearman's rank correlation between repetition  1  & repetition  4 : 0.175 0.0\n",
      "Spearman's rank correlation between repetition  2  & repetition  3 : 0.133 0.0\n",
      "Spearman's rank correlation between repetition  2  & repetition  4 : 0.1695 0.0\n",
      "Spearman's rank correlation between repetition  3  & repetition  4 : 0.154 0.0\n",
      "love\n",
      "Spearman's rank correlation between repetition  1  & repetition  2 : 0.6117 0.0\n",
      "Spearman's rank correlation between repetition  1  & repetition  3 : 0.5702 0.0\n",
      "Spearman's rank correlation between repetition  1  & repetition  4 : 0.4151 0.0\n",
      "Spearman's rank correlation between repetition  2  & repetition  3 : 0.7215 0.0\n",
      "Spearman's rank correlation between repetition  2  & repetition  4 : 0.5733 0.0\n",
      "Spearman's rank correlation between repetition  3  & repetition  4 : 0.5706 0.0\n",
      "neutral\n",
      "Spearman's rank correlation between repetition  1  & repetition  2 : 0.2706 0.0\n",
      "Spearman's rank correlation between repetition  1  & repetition  3 : 0.1159 0.0001\n",
      "Spearman's rank correlation between repetition  1  & repetition  4 : 0.227 0.0\n",
      "Spearman's rank correlation between repetition  2  & repetition  3 : 0.093 0.0024\n",
      "Spearman's rank correlation between repetition  2  & repetition  4 : 0.2161 0.0\n",
      "Spearman's rank correlation between repetition  3  & repetition  4 : 0.089 0.0036\n",
      "pain\n",
      "Spearman's rank correlation between repetition  1  & repetition  2 : 0.4331 0.0\n",
      "Spearman's rank correlation between repetition  1  & repetition  3 : 0.2672 0.0\n",
      "Spearman's rank correlation between repetition  1  & repetition  4 : 0.2888 0.0\n",
      "Spearman's rank correlation between repetition  2  & repetition  3 : 0.4745 0.0\n",
      "Spearman's rank correlation between repetition  2  & repetition  4 : 0.2891 0.0\n",
      "Spearman's rank correlation between repetition  3  & repetition  4 : 0.2395 0.0\n",
      "pride\n",
      "Spearman's rank correlation between repetition  1  & repetition  2 : 0.1448 0.0\n",
      "Spearman's rank correlation between repetition  1  & repetition  3 : 0.2883 0.0\n",
      "Spearman's rank correlation between repetition  1  & repetition  4 : 0.1725 0.0\n",
      "Spearman's rank correlation between repetition  2  & repetition  3 : 0.451 0.0\n",
      "Spearman's rank correlation between repetition  2  & repetition  4 : 0.1599 0.0\n",
      "Spearman's rank correlation between repetition  3  & repetition  4 : 0.1621 0.0\n",
      "realization\n",
      "Spearman's rank correlation between repetition  1  & repetition  2 : -0.0225 0.4624\n",
      "Spearman's rank correlation between repetition  1  & repetition  3 : 0.0343 0.2639\n",
      "Spearman's rank correlation between repetition  1  & repetition  4 : 0.0 0.9988\n",
      "Spearman's rank correlation between repetition  2  & repetition  3 : -0.0056 0.8555\n",
      "Spearman's rank correlation between repetition  2  & repetition  4 : -0.0277 0.3658\n",
      "Spearman's rank correlation between repetition  3  & repetition  4 : 0.066 0.0314\n",
      "relief\n",
      "Spearman's rank correlation between repetition  1  & repetition  2 : 0.0895 0.0035\n",
      "Spearman's rank correlation between repetition  1  & repetition  3 : 0.1118 0.0003\n",
      "Spearman's rank correlation between repetition  1  & repetition  4 : 0.1162 0.0001\n",
      "Spearman's rank correlation between repetition  2  & repetition  3 : 0.2498 0.0\n",
      "Spearman's rank correlation between repetition  2  & repetition  4 : 0.0957 0.0018\n",
      "Spearman's rank correlation between repetition  3  & repetition  4 : 0.1673 0.0\n",
      "sadness\n",
      "Spearman's rank correlation between repetition  1  & repetition  2 : 0.5131 0.0\n",
      "Spearman's rank correlation between repetition  1  & repetition  3 : 0.5716 0.0\n",
      "Spearman's rank correlation between repetition  1  & repetition  4 : 0.4031 0.0\n",
      "Spearman's rank correlation between repetition  2  & repetition  3 : 0.5213 0.0\n",
      "Spearman's rank correlation between repetition  2  & repetition  4 : 0.4343 0.0\n",
      "Spearman's rank correlation between repetition  3  & repetition  4 : 0.465 0.0\n",
      "shame\n",
      "Spearman's rank correlation between repetition  1  & repetition  2 : 0.3344 0.0\n",
      "Spearman's rank correlation between repetition  1  & repetition  3 : 0.2758 0.0\n",
      "Spearman's rank correlation between repetition  1  & repetition  4 : 0.1623 0.0\n",
      "Spearman's rank correlation between repetition  2  & repetition  3 : -0.0023 0.94\n",
      "Spearman's rank correlation between repetition  2  & repetition  4 : -0.0145 0.637\n",
      "Spearman's rank correlation between repetition  3  & repetition  4 : 0.1587 0.0\n",
      "surprise\n",
      "Spearman's rank correlation between repetition  1  & repetition  2 : 0.4917 0.0\n",
      "Spearman's rank correlation between repetition  1  & repetition  3 : 0.5543 0.0\n",
      "Spearman's rank correlation between repetition  1  & repetition  4 : 0.3467 0.0\n",
      "Spearman's rank correlation between repetition  2  & repetition  3 : 0.5528 0.0\n",
      "Spearman's rank correlation between repetition  2  & repetition  4 : 0.304 0.0\n",
      "Spearman's rank correlation between repetition  3  & repetition  4 : 0.3847 0.0\n",
      "sympathy\n",
      "Spearman's rank correlation between repetition  1  & repetition  2 : 0.0778 0.0111\n",
      "Spearman's rank correlation between repetition  1  & repetition  3 : 0.1432 0.0\n",
      "Spearman's rank correlation between repetition  1  & repetition  4 : 0.0289 0.3466\n",
      "Spearman's rank correlation between repetition  2  & repetition  3 : 0.2622 0.0\n",
      "Spearman's rank correlation between repetition  2  & repetition  4 : 0.1239 0.0001\n",
      "Spearman's rank correlation between repetition  3  & repetition  4 : 0.1474 0.0\n",
      "triumph\n",
      "Spearman's rank correlation between repetition  1  & repetition  2 : 0.4449 0.0\n",
      "Spearman's rank correlation between repetition  1  & repetition  3 : 0.5187 0.0\n",
      "Spearman's rank correlation between repetition  1  & repetition  4 : 0.2638 0.0\n",
      "Spearman's rank correlation between repetition  2  & repetition  3 : 0.6463 0.0\n",
      "Spearman's rank correlation between repetition  2  & repetition  4 : 0.2193 0.0\n",
      "Spearman's rank correlation between repetition  3  & repetition  4 : 0.3009 0.0\n",
      "unsure\n",
      "Spearman's rank correlation between repetition  1  & repetition  2 : 0.6614 0.0\n",
      "Spearman's rank correlation between repetition  1  & repetition  3 : 0.1582 0.0\n",
      "Spearman's rank correlation between repetition  1  & repetition  4 : nan nan\n",
      "Spearman's rank correlation between repetition  2  & repetition  3 : 0.1144 0.0002\n",
      "Spearman's rank correlation between repetition  2  & repetition  4 : nan nan\n",
      "Spearman's rank correlation between repetition  3  & repetition  4 : nan nan\n"
     ]
    }
   ],
   "source": [
    "#compute the Spearman's rank correlation between different runs\n",
    "from itertools import combinations\n",
    "from scipy.stats import spearmanr\n",
    "\n",
    "for emotion in emotions:\n",
    "    print(emotion)\n",
    "    subset = datadf[datadf[\"emotion\"] == emotion]\n",
    "    combs = combinations(range(4), 2)\n",
    "    for i in list(combs):\n",
    "        rho, pval = spearmanr(subset[\"Mean \" + str(i[0] + 1)], subset[\"Mean \" + str(i[1] + 1)], axis=1)\n",
    "        print(\"Spearman's rank correlation between repetition \", i[0] + 1, \" & repetition \", i[1] + 1, \":\", round(rho, 4), round(pval, 4))\n"
   ]
  },
  {
   "cell_type": "markdown",
   "metadata": {},
   "source": [
    "# Repeatability Analysis"
   ]
  },
  {
   "cell_type": "code",
   "execution_count": 9,
   "metadata": {},
   "outputs": [
    {
     "name": "stdout",
     "output_type": "stream",
     "text": [
      "amusement\n"
     ]
    },
    {
     "name": "stderr",
     "output_type": "stream",
     "text": [
      "22/08/2023 16:54:27  observed disagreement: 0.17887323943661973\n",
      "22/08/2023 16:54:28  expected disagreement: 0.25385130816196083\n",
      "22/08/2023 16:54:28  observed disagreement: 0.15774647887323945\n",
      "22/08/2023 16:54:29  expected disagreement: 0.20121977561771254\n",
      "22/08/2023 16:54:29  observed disagreement: 0.23708920187793428\n",
      "22/08/2023 16:54:30  expected disagreement: 0.33023121514690645\n"
     ]
    },
    {
     "name": "stdout",
     "output_type": "stream",
     "text": [
      "xRR score between International and Budapest raters: 0.2954\n",
      "xRR score between International and Mexico raters: 0.216\n",
      "xRR score between International and KualaLumpur raters: 0.2821\n",
      "anger\n"
     ]
    },
    {
     "name": "stderr",
     "output_type": "stream",
     "text": [
      "22/08/2023 16:54:30  observed disagreement: 0.05727699530516432\n",
      "22/08/2023 16:54:31  expected disagreement: 0.09376710970045626\n",
      "22/08/2023 16:54:31  observed disagreement: 0.04976525821596244\n",
      "22/08/2023 16:54:32  expected disagreement: 0.08412484295444025\n",
      "22/08/2023 16:54:32  observed disagreement: 0.05539906103286385\n",
      "22/08/2023 16:54:33  expected disagreement: 0.10802089532500166\n"
     ]
    },
    {
     "name": "stdout",
     "output_type": "stream",
     "text": [
      "xRR score between International and Budapest raters: 0.3892\n",
      "xRR score between International and Mexico raters: 0.4084\n",
      "xRR score between International and KualaLumpur raters: 0.4871\n",
      "awe\n"
     ]
    },
    {
     "name": "stderr",
     "output_type": "stream",
     "text": [
      "22/08/2023 16:54:33  observed disagreement: 0.09248826291079812\n",
      "22/08/2023 16:54:34  expected disagreement: 0.0959946218783751\n",
      "22/08/2023 16:54:34  observed disagreement: 0.10610328638497653\n",
      "22/08/2023 16:54:35  expected disagreement: 0.11406643302695674\n",
      "22/08/2023 16:54:35  observed disagreement: 0.07699530516431925\n",
      "22/08/2023 16:54:36  expected disagreement: 0.0815371729595098\n"
     ]
    },
    {
     "name": "stdout",
     "output_type": "stream",
     "text": [
      "xRR score between International and Budapest raters: 0.0365\n",
      "xRR score between International and Mexico raters: 0.0698\n",
      "xRR score between International and KualaLumpur raters: 0.0557\n",
      "boredom\n"
     ]
    },
    {
     "name": "stderr",
     "output_type": "stream",
     "text": [
      "22/08/2023 16:54:36  observed disagreement: 0.055868544600938964\n",
      "22/08/2023 16:54:37  expected disagreement: 0.07559478939363883\n",
      "22/08/2023 16:54:37  observed disagreement: 0.06901408450704226\n",
      "22/08/2023 16:54:38  expected disagreement: 0.09373536996627653\n",
      "22/08/2023 16:54:38  observed disagreement: 0.04929577464788732\n",
      "22/08/2023 16:54:39  expected disagreement: 0.06926667989155591\n"
     ]
    },
    {
     "name": "stdout",
     "output_type": "stream",
     "text": [
      "xRR score between International and Budapest raters: 0.2609\n",
      "xRR score between International and Mexico raters: 0.2637\n",
      "xRR score between International and KualaLumpur raters: 0.2883\n",
      "concentration\n"
     ]
    },
    {
     "name": "stderr",
     "output_type": "stream",
     "text": [
      "22/08/2023 16:54:39  observed disagreement: 0.19248826291079812\n",
      "22/08/2023 16:54:40  expected disagreement: 0.241005091582358\n",
      "22/08/2023 16:54:40  observed disagreement: 0.20234741784037558\n",
      "22/08/2023 16:54:41  expected disagreement: 0.28463840948665386\n",
      "22/08/2023 16:54:41  observed disagreement: 0.3380281690140845\n",
      "22/08/2023 16:54:42  expected disagreement: 0.4373550221516895\n"
     ]
    },
    {
     "name": "stdout",
     "output_type": "stream",
     "text": [
      "xRR score between International and Budapest raters: 0.2013\n",
      "xRR score between International and Mexico raters: 0.2891\n",
      "xRR score between International and KualaLumpur raters: 0.2271\n",
      "confusion\n"
     ]
    },
    {
     "name": "stderr",
     "output_type": "stream",
     "text": [
      "22/08/2023 16:54:42  observed disagreement: 0.10422535211267606\n",
      "22/08/2023 16:54:43  expected disagreement: 0.12700081553483655\n",
      "22/08/2023 16:54:43  observed disagreement: 0.10046948356807511\n",
      "22/08/2023 16:54:44  expected disagreement: 0.11489298860455377\n",
      "22/08/2023 16:54:44  observed disagreement: 0.08873239436619719\n",
      "22/08/2023 16:54:45  expected disagreement: 0.11450241354228659\n"
     ]
    },
    {
     "name": "stdout",
     "output_type": "stream",
     "text": [
      "xRR score between International and Budapest raters: 0.1793\n",
      "xRR score between International and Mexico raters: 0.1255\n",
      "xRR score between International and KualaLumpur raters: 0.2251\n",
      "contemplation\n"
     ]
    },
    {
     "name": "stderr",
     "output_type": "stream",
     "text": [
      "22/08/2023 16:54:45  observed disagreement: 0.13943661971830987\n",
      "22/08/2023 16:54:46  expected disagreement: 0.15206374396614428\n",
      "22/08/2023 16:54:46  observed disagreement: 0.12206572769953052\n",
      "22/08/2023 16:54:47  expected disagreement: 0.1296660715466508\n",
      "22/08/2023 16:54:47  observed disagreement: 0.11126760563380282\n",
      "22/08/2023 16:54:48  expected disagreement: 0.12310123652714408\n"
     ]
    },
    {
     "name": "stdout",
     "output_type": "stream",
     "text": [
      "xRR score between International and Budapest raters: 0.083\n",
      "xRR score between International and Mexico raters: 0.0586\n",
      "xRR score between International and KualaLumpur raters: 0.0961\n",
      "contempt\n"
     ]
    },
    {
     "name": "stderr",
     "output_type": "stream",
     "text": [
      "22/08/2023 16:54:48  observed disagreement: 0.0539906103286385\n",
      "22/08/2023 16:54:49  expected disagreement: 0.062253521126760566\n",
      "22/08/2023 16:54:49  observed disagreement: 0.044131455399061034\n",
      "22/08/2023 16:54:50  expected disagreement: 0.04735524256651017\n",
      "22/08/2023 16:54:50  observed disagreement: 0.05117370892018779\n",
      "22/08/2023 16:54:51  expected disagreement: 0.057433489827856024\n"
     ]
    },
    {
     "name": "stdout",
     "output_type": "stream",
     "text": [
      "xRR score between International and Budapest raters: 0.1327\n",
      "xRR score between International and Mexico raters: 0.0681\n",
      "xRR score between International and KualaLumpur raters: 0.109\n",
      "contentment\n"
     ]
    },
    {
     "name": "stderr",
     "output_type": "stream",
     "text": [
      "22/08/2023 16:54:51  observed disagreement: 0.19342723004694837\n",
      "22/08/2023 16:54:52  expected disagreement: 0.2081227269721616\n",
      "22/08/2023 16:54:52  observed disagreement: 0.26384976525821596\n",
      "22/08/2023 16:54:53  expected disagreement: 0.2832744825762084\n",
      "22/08/2023 16:54:53  observed disagreement: 0.10985915492957747\n",
      "22/08/2023 16:54:54  expected disagreement: 0.12955498247702177\n"
     ]
    },
    {
     "name": "stdout",
     "output_type": "stream",
     "text": [
      "xRR score between International and Budapest raters: 0.0706\n",
      "xRR score between International and Mexico raters: 0.0686\n",
      "xRR score between International and KualaLumpur raters: 0.152\n",
      "desire\n"
     ]
    },
    {
     "name": "stderr",
     "output_type": "stream",
     "text": [
      "22/08/2023 16:54:54  observed disagreement: 0.038028169014084505\n",
      "22/08/2023 16:54:55  expected disagreement: 0.047571249090788865\n",
      "22/08/2023 16:54:55  observed disagreement: 0.04037558685446009\n",
      "22/08/2023 16:54:56  expected disagreement: 0.04800502545791179\n",
      "22/08/2023 16:54:56  observed disagreement: 0.04366197183098591\n",
      "22/08/2023 16:54:57  expected disagreement: 0.058849434635984924\n"
     ]
    },
    {
     "name": "stdout",
     "output_type": "stream",
     "text": [
      "xRR score between International and Budapest raters: 0.2006\n",
      "xRR score between International and Mexico raters: 0.1589\n",
      "xRR score between International and KualaLumpur raters: 0.2581\n",
      "disappointment\n"
     ]
    },
    {
     "name": "stderr",
     "output_type": "stream",
     "text": [
      "22/08/2023 16:54:57  observed disagreement: 0.05821596244131456\n",
      "22/08/2023 16:54:58  expected disagreement: 0.06353898036103947\n",
      "22/08/2023 16:54:58  observed disagreement: 0.056338028169014086\n",
      "22/08/2023 16:54:59  expected disagreement: 0.06056117613348322\n",
      "22/08/2023 16:54:59  observed disagreement: 0.051643192488262914\n",
      "22/08/2023 16:55:00  expected disagreement: 0.06056117613348322\n"
     ]
    },
    {
     "name": "stdout",
     "output_type": "stream",
     "text": [
      "xRR score between International and Budapest raters: 0.0838\n",
      "xRR score between International and Mexico raters: 0.0697\n",
      "xRR score between International and KualaLumpur raters: 0.1473\n",
      "disgust\n"
     ]
    },
    {
     "name": "stderr",
     "output_type": "stream",
     "text": [
      "22/08/2023 16:55:00  observed disagreement: 0.05352112676056338\n",
      "22/08/2023 16:55:01  expected disagreement: 0.06333090877030571\n",
      "22/08/2023 16:55:01  observed disagreement: 0.05727699530516432\n",
      "22/08/2023 16:55:02  expected disagreement: 0.0670880998038308\n",
      "22/08/2023 16:55:02  observed disagreement: 0.06525821596244132\n",
      "22/08/2023 16:55:03  expected disagreement: 0.0783596729044061\n"
     ]
    },
    {
     "name": "stdout",
     "output_type": "stream",
     "text": [
      "xRR score between International and Budapest raters: 0.1549\n",
      "xRR score between International and Mexico raters: 0.1462\n",
      "xRR score between International and KualaLumpur raters: 0.1672\n",
      "distress\n"
     ]
    },
    {
     "name": "stderr",
     "output_type": "stream",
     "text": [
      "22/08/2023 16:55:03  observed disagreement: 0.09014084507042254\n",
      "22/08/2023 16:55:04  expected disagreement: 0.09771341665013555\n",
      "22/08/2023 16:55:04  observed disagreement: 0.09718309859154929\n",
      "22/08/2023 16:55:05  expected disagreement: 0.1094619674226895\n",
      "22/08/2023 16:55:05  observed disagreement: 0.07605633802816901\n",
      "22/08/2023 16:55:06  expected disagreement: 0.0863699883180145\n"
     ]
    },
    {
     "name": "stdout",
     "output_type": "stream",
     "text": [
      "xRR score between International and Budapest raters: 0.0775\n",
      "xRR score between International and Mexico raters: 0.1122\n",
      "xRR score between International and KualaLumpur raters: 0.1194\n",
      "doubt\n"
     ]
    },
    {
     "name": "stderr",
     "output_type": "stream",
     "text": [
      "22/08/2023 16:55:06  observed disagreement: 0.07370892018779343\n",
      "22/08/2023 16:55:07  expected disagreement: 0.07406687385659812\n",
      "22/08/2023 16:55:07  observed disagreement: 0.06291079812206572\n",
      "22/08/2023 16:55:08  expected disagreement: 0.0641914082302894\n",
      "22/08/2023 16:55:08  observed disagreement: 0.04647887323943662\n",
      "22/08/2023 16:55:09  expected disagreement: 0.04658731733121735\n"
     ]
    },
    {
     "name": "stdout",
     "output_type": "stream",
     "text": [
      "xRR score between International and Budapest raters: 0.0048\n",
      "xRR score between International and Mexico raters: 0.0199\n",
      "xRR score between International and KualaLumpur raters: 0.0023\n",
      "ecstasy\n"
     ]
    },
    {
     "name": "stderr",
     "output_type": "stream",
     "text": [
      "22/08/2023 16:55:10  observed disagreement: 0.05117370892018779\n",
      "22/08/2023 16:55:11  expected disagreement: 0.05536159051334612\n",
      "22/08/2023 16:55:11  observed disagreement: 0.046009389671361506\n",
      "22/08/2023 16:55:12  expected disagreement: 0.05145363574246732\n",
      "22/08/2023 16:55:12  observed disagreement: 0.03943661971830986\n",
      "22/08/2023 16:55:12  expected disagreement: 0.03929555423306663\n"
     ]
    },
    {
     "name": "stdout",
     "output_type": "stream",
     "text": [
      "xRR score between International and Budapest raters: 0.0756\n",
      "xRR score between International and Mexico raters: 0.1058\n",
      "xRR score between International and KualaLumpur raters: -0.0036\n",
      "elation\n"
     ]
    },
    {
     "name": "stderr",
     "output_type": "stream",
     "text": [
      "22/08/2023 16:55:13  observed disagreement: 0.11502347417840375\n",
      "22/08/2023 16:55:14  expected disagreement: 0.12892018779342723\n",
      "22/08/2023 16:55:14  observed disagreement: 0.12300469483568074\n",
      "22/08/2023 16:55:15  expected disagreement: 0.15258215962441316\n",
      "22/08/2023 16:55:15  observed disagreement: 0.107981220657277\n",
      "22/08/2023 16:55:16  expected disagreement: 0.12591549295774648\n"
     ]
    },
    {
     "name": "stdout",
     "output_type": "stream",
     "text": [
      "xRR score between International and Budapest raters: 0.1078\n",
      "xRR score between International and Mexico raters: 0.1938\n",
      "xRR score between International and KualaLumpur raters: 0.1424\n",
      "embarrassment\n"
     ]
    },
    {
     "name": "stderr",
     "output_type": "stream",
     "text": [
      "22/08/2023 16:55:16  observed disagreement: 0.061971830985915494\n",
      "22/08/2023 16:55:17  expected disagreement: 0.06665740924419758\n",
      "22/08/2023 16:55:17  observed disagreement: 0.04225352112676056\n",
      "22/08/2023 16:55:18  expected disagreement: 0.044968590888051316\n",
      "22/08/2023 16:55:18  observed disagreement: 0.04131455399061033\n",
      "22/08/2023 16:55:19  expected disagreement: 0.044101038153805464\n"
     ]
    },
    {
     "name": "stdout",
     "output_type": "stream",
     "text": [
      "xRR score between International and Budapest raters: 0.0703\n",
      "xRR score between International and Mexico raters: 0.0604\n",
      "xRR score between International and KualaLumpur raters: 0.0632\n",
      "error.other\n"
     ]
    },
    {
     "name": "stderr",
     "output_type": "stream",
     "text": [
      "22/08/2023 16:55:19  observed disagreement: 0.022535211267605635\n",
      "22/08/2023 16:55:20  expected disagreement: 0.022535211267605635\n",
      "22/08/2023 16:55:20  observed disagreement: 0.022535211267605635\n",
      "22/08/2023 16:55:21  expected disagreement: 0.022535211267605635\n",
      "22/08/2023 16:55:21  observed disagreement: 0.022535211267605635\n",
      "22/08/2023 16:55:22  expected disagreement: 0.022535211267605635\n",
      "22/08/2023 16:55:22  observed disagreement: 0.022535211267605635\n",
      "22/08/2023 16:55:23  expected disagreement: 0.022535211267605635\n"
     ]
    },
    {
     "name": "stdout",
     "output_type": "stream",
     "text": [
      "xRR score between International and Budapest raters: 0.0\n"
     ]
    },
    {
     "name": "stderr",
     "output_type": "stream",
     "text": [
      "22/08/2023 16:55:23  observed disagreement: 0.022535211267605635\n",
      "22/08/2023 16:55:23  expected disagreement: 0.022535211267605635\n"
     ]
    },
    {
     "name": "stdout",
     "output_type": "stream",
     "text": [
      "xRR score between International and Mexico raters: 0.0\n"
     ]
    },
    {
     "name": "stderr",
     "output_type": "stream",
     "text": [
      "22/08/2023 16:55:24  observed disagreement: 0.022535211267605635\n",
      "22/08/2023 16:55:24  expected disagreement: 0.022535211267605635\n"
     ]
    },
    {
     "name": "stdout",
     "output_type": "stream",
     "text": [
      "xRR score between International and KualaLumpur raters: 0.0\n",
      "fear\n"
     ]
    },
    {
     "name": "stderr",
     "output_type": "stream",
     "text": [
      "22/08/2023 16:55:25  observed disagreement: 0.04976525821596244\n",
      "22/08/2023 16:55:26  expected disagreement: 0.06557032334854196\n",
      "22/08/2023 16:55:26  observed disagreement: 0.04647887323943662\n",
      "22/08/2023 16:55:27  expected disagreement: 0.07229914699464392\n",
      "22/08/2023 16:55:27  observed disagreement: 0.044131455399061034\n",
      "22/08/2023 16:55:27  expected disagreement: 0.07440190438405078\n"
     ]
    },
    {
     "name": "stdout",
     "output_type": "stream",
     "text": [
      "xRR score between International and Budapest raters: 0.241\n",
      "xRR score between International and Mexico raters: 0.3571\n",
      "xRR score between International and KualaLumpur raters: 0.4069\n",
      "interest\n"
     ]
    },
    {
     "name": "stderr",
     "output_type": "stream",
     "text": [
      "22/08/2023 16:55:28  observed disagreement: 0.22018779342723005\n",
      "22/08/2023 16:55:29  expected disagreement: 0.24294341951552823\n",
      "22/08/2023 16:55:29  observed disagreement: 0.21784037558685446\n",
      "22/08/2023 16:55:30  expected disagreement: 0.24065992197315347\n",
      "22/08/2023 16:55:30  observed disagreement: 0.2784037558685446\n",
      "22/08/2023 16:55:31  expected disagreement: 0.3078599925058961\n"
     ]
    },
    {
     "name": "stdout",
     "output_type": "stream",
     "text": [
      "xRR score between International and Budapest raters: 0.0937\n",
      "xRR score between International and Mexico raters: 0.0948\n",
      "xRR score between International and KualaLumpur raters: 0.0957\n",
      "love\n"
     ]
    },
    {
     "name": "stderr",
     "output_type": "stream",
     "text": [
      "22/08/2023 16:55:32  observed disagreement: 0.09295774647887324\n",
      "22/08/2023 16:55:32  expected disagreement: 0.1310057528268201\n",
      "22/08/2023 16:55:33  observed disagreement: 0.09201877934272301\n",
      "22/08/2023 16:55:33  expected disagreement: 0.1532434040864908\n",
      "22/08/2023 16:55:34  observed disagreement: 0.08544600938967137\n",
      "22/08/2023 16:55:34  expected disagreement: 0.15475104146002777\n"
     ]
    },
    {
     "name": "stdout",
     "output_type": "stream",
     "text": [
      "xRR score between International and Budapest raters: 0.2904\n",
      "xRR score between International and Mexico raters: 0.3995\n",
      "xRR score between International and KualaLumpur raters: 0.4478\n",
      "neutral\n"
     ]
    },
    {
     "name": "stderr",
     "output_type": "stream",
     "text": [
      "22/08/2023 16:55:35  observed disagreement: 0.1352112676056338\n",
      "22/08/2023 16:55:36  expected disagreement: 0.1581524829729551\n",
      "22/08/2023 16:55:36  observed disagreement: 0.18309859154929578\n",
      "22/08/2023 16:55:37  expected disagreement: 0.20899689215102824\n",
      "22/08/2023 16:55:37  observed disagreement: 0.115962441314554\n",
      "22/08/2023 16:55:37  expected disagreement: 0.118847230487778\n"
     ]
    },
    {
     "name": "stdout",
     "output_type": "stream",
     "text": [
      "xRR score between International and Budapest raters: 0.1451\n",
      "xRR score between International and Mexico raters: 0.1239\n",
      "xRR score between International and KualaLumpur raters: 0.0243\n",
      "pain\n"
     ]
    },
    {
     "name": "stderr",
     "output_type": "stream",
     "text": [
      "22/08/2023 16:55:38  observed disagreement: 0.030985915492957747\n",
      "22/08/2023 16:55:39  expected disagreement: 0.03531971169741453\n",
      "22/08/2023 16:55:39  observed disagreement: 0.02910798122065728\n",
      "22/08/2023 16:55:39  expected disagreement: 0.03355286649474311\n",
      "22/08/2023 16:55:40  observed disagreement: 0.030985915492957747\n",
      "22/08/2023 16:55:40  expected disagreement: 0.03531971169741453\n"
     ]
    },
    {
     "name": "stdout",
     "output_type": "stream",
     "text": [
      "xRR score between International and Budapest raters: 0.1227\n",
      "xRR score between International and Mexico raters: 0.1325\n",
      "xRR score between International and KualaLumpur raters: 0.1227\n",
      "pride\n"
     ]
    },
    {
     "name": "stderr",
     "output_type": "stream",
     "text": [
      "22/08/2023 16:55:41  observed disagreement: 0.10375586854460093\n",
      "22/08/2023 16:55:42  expected disagreement: 0.11558244616368005\n",
      "22/08/2023 16:55:42  observed disagreement: 0.07464788732394366\n",
      "22/08/2023 16:55:43  expected disagreement: 0.08004805043091097\n",
      "22/08/2023 16:55:43  observed disagreement: 0.07511737089201878\n",
      "22/08/2023 16:55:44  expected disagreement: 0.08408604994599837\n"
     ]
    },
    {
     "name": "stdout",
     "output_type": "stream",
     "text": [
      "xRR score between International and Budapest raters: 0.1023\n",
      "xRR score between International and Mexico raters: 0.0675\n",
      "xRR score between International and KualaLumpur raters: 0.1067\n",
      "realization\n"
     ]
    },
    {
     "name": "stderr",
     "output_type": "stream",
     "text": [
      "22/08/2023 16:55:44  observed disagreement: 0.08873239436619719\n",
      "22/08/2023 16:55:45  expected disagreement: 0.08834622760034384\n",
      "22/08/2023 16:55:45  observed disagreement: 0.057746478873239436\n",
      "22/08/2023 16:55:46  expected disagreement: 0.05738852520443475\n",
      "22/08/2023 16:55:46  observed disagreement: 0.056338028169014086\n",
      "22/08/2023 16:55:47  expected disagreement: 0.056970177874760296\n"
     ]
    },
    {
     "name": "stdout",
     "output_type": "stream",
     "text": [
      "xRR score between International and Budapest raters: -0.0044\n",
      "xRR score between International and Mexico raters: -0.0062\n",
      "xRR score between International and KualaLumpur raters: 0.0111\n",
      "relief\n"
     ]
    },
    {
     "name": "stderr",
     "output_type": "stream",
     "text": [
      "22/08/2023 16:55:47  observed disagreement: 0.038028169014084505\n",
      "22/08/2023 16:55:48  expected disagreement: 0.04142432057131522\n",
      "22/08/2023 16:55:48  observed disagreement: 0.03145539906103286\n",
      "22/08/2023 16:55:49  expected disagreement: 0.03298155127950803\n",
      "22/08/2023 16:55:49  observed disagreement: 0.0568075117370892\n",
      "22/08/2023 16:55:50  expected disagreement: 0.06230906566157508\n"
     ]
    },
    {
     "name": "stdout",
     "output_type": "stream",
     "text": [
      "xRR score between International and Budapest raters: 0.082\n",
      "xRR score between International and Mexico raters: 0.0463\n",
      "xRR score between International and KualaLumpur raters: 0.0883\n",
      "sadness\n"
     ]
    },
    {
     "name": "stderr",
     "output_type": "stream",
     "text": [
      "22/08/2023 16:55:50  observed disagreement: 0.050234741784037557\n",
      "22/08/2023 16:55:51  expected disagreement: 0.07317507549207608\n",
      "22/08/2023 16:55:51  observed disagreement: 0.04507042253521127\n",
      "22/08/2023 16:55:52  expected disagreement: 0.06842778108400009\n",
      "22/08/2023 16:55:52  observed disagreement: 0.045539906103286384\n",
      "22/08/2023 16:55:53  expected disagreement: 0.06842778108400009\n"
     ]
    },
    {
     "name": "stdout",
     "output_type": "stream",
     "text": [
      "xRR score between International and Budapest raters: 0.3135\n",
      "xRR score between International and Mexico raters: 0.3413\n",
      "xRR score between International and KualaLumpur raters: 0.3345\n",
      "shame\n"
     ]
    },
    {
     "name": "stderr",
     "output_type": "stream",
     "text": [
      "22/08/2023 16:55:53  observed disagreement: 0.023943661971830985\n",
      "22/08/2023 16:55:54  expected disagreement: 0.025580903259935197\n",
      "22/08/2023 16:55:54  observed disagreement: 0.022535211267605635\n",
      "22/08/2023 16:55:55  expected disagreement: 0.02242412219797659\n",
      "22/08/2023 16:55:55  observed disagreement: 0.01971830985915493\n",
      "22/08/2023 16:55:56  expected disagreement: 0.020169278582291873\n"
     ]
    },
    {
     "name": "stdout",
     "output_type": "stream",
     "text": [
      "xRR score between International and Budapest raters: 0.064\n",
      "xRR score between International and Mexico raters: -0.005\n",
      "xRR score between International and KualaLumpur raters: 0.0224\n",
      "surprise\n"
     ]
    },
    {
     "name": "stderr",
     "output_type": "stream",
     "text": [
      "22/08/2023 16:55:56  observed disagreement: 0.11455399061032864\n",
      "22/08/2023 16:55:57  expected disagreement: 0.15089201877934272\n",
      "22/08/2023 16:55:57  observed disagreement: 0.1028169014084507\n",
      "22/08/2023 16:55:58  expected disagreement: 0.1316021953316141\n",
      "22/08/2023 16:55:58  observed disagreement: 0.09859154929577464\n",
      "22/08/2023 16:55:59  expected disagreement: 0.13916683197778218\n"
     ]
    },
    {
     "name": "stdout",
     "output_type": "stream",
     "text": [
      "xRR score between International and Budapest raters: 0.2408\n",
      "xRR score between International and Mexico raters: 0.2187\n",
      "xRR score between International and KualaLumpur raters: 0.2916\n",
      "sympathy\n"
     ]
    },
    {
     "name": "stderr",
     "output_type": "stream",
     "text": [
      "22/08/2023 16:56:00  observed disagreement: 0.06056338028169014\n",
      "22/08/2023 16:56:00  expected disagreement: 0.062024730542881705\n",
      "22/08/2023 16:56:00  observed disagreement: 0.03051643192488263\n",
      "22/08/2023 16:56:01  expected disagreement: 0.032826379245740486\n",
      "22/08/2023 16:56:01  observed disagreement: 0.03333333333333333\n",
      "22/08/2023 16:56:02  expected disagreement: 0.03731843329145452\n"
     ]
    },
    {
     "name": "stdout",
     "output_type": "stream",
     "text": [
      "xRR score between International and Budapest raters: 0.0236\n",
      "xRR score between International and Mexico raters: 0.0704\n",
      "xRR score between International and KualaLumpur raters: 0.1068\n",
      "triumph\n"
     ]
    },
    {
     "name": "stderr",
     "output_type": "stream",
     "text": [
      "22/08/2023 16:56:03  observed disagreement: 0.03568075117370892\n",
      "22/08/2023 16:56:03  expected disagreement: 0.04211994974542088\n",
      "22/08/2023 16:56:04  observed disagreement: 0.038028169014084505\n",
      "22/08/2023 16:56:04  expected disagreement: 0.041682205911525494\n",
      "22/08/2023 16:56:04  observed disagreement: 0.03474178403755868\n",
      "22/08/2023 16:56:05  expected disagreement: 0.03993123057594393\n"
     ]
    },
    {
     "name": "stdout",
     "output_type": "stream",
     "text": [
      "xRR score between International and Budapest raters: 0.1529\n",
      "xRR score between International and Mexico raters: 0.0877\n",
      "xRR score between International and KualaLumpur raters: 0.13\n",
      "unsure\n"
     ]
    },
    {
     "name": "stderr",
     "output_type": "stream",
     "text": [
      "22/08/2023 16:56:06  observed disagreement: 0.04366197183098591\n",
      "22/08/2023 16:56:06  expected disagreement: 0.04366197183098591\n",
      "22/08/2023 16:56:07  observed disagreement: 0.03474178403755868\n",
      "22/08/2023 16:56:07  expected disagreement: 0.03474178403755868\n",
      "22/08/2023 16:56:08  observed disagreement: 0.002347417840375587\n",
      "22/08/2023 16:56:08  expected disagreement: 0.002347417840375587\n",
      "22/08/2023 16:56:08  observed disagreement: 0.04366197183098591\n",
      "22/08/2023 16:56:09  expected disagreement: 0.04366197183098591\n"
     ]
    },
    {
     "name": "stdout",
     "output_type": "stream",
     "text": [
      "xRR score between International and Budapest raters: 0.0\n"
     ]
    },
    {
     "name": "stderr",
     "output_type": "stream",
     "text": [
      "22/08/2023 16:56:09  observed disagreement: 0.03474178403755868\n",
      "22/08/2023 16:56:10  expected disagreement: 0.03474178403755868\n"
     ]
    },
    {
     "name": "stdout",
     "output_type": "stream",
     "text": [
      "xRR score between International and Mexico raters: 0.0\n"
     ]
    },
    {
     "name": "stderr",
     "output_type": "stream",
     "text": [
      "22/08/2023 16:56:10  observed disagreement: 0.002347417840375587\n",
      "22/08/2023 16:56:11  expected disagreement: 0.002347417840375587\n"
     ]
    },
    {
     "name": "stdout",
     "output_type": "stream",
     "text": [
      "xRR score between International and KualaLumpur raters: 0.0\n"
     ]
    }
   ],
   "source": [
    "# Compute the xRR score for each emotion\n",
    "\n",
    "xrr = {}\n",
    "for emotion in emotions:\n",
    "    xrr[emotion] = []\n",
    "    \n",
    "scores = []\n",
    "\n",
    "for emotion in emotions:\n",
    "    print(emotion)\n",
    "    \n",
    "    xRR_object_41 = xRR(repetition4, repetition1, emotion, \"rater\", 'item_id\"')\n",
    "    xRR_object_42 = xRR(repetition4, repetition2, emotion, \"rater\", 'item_id\"')\n",
    "    xRR_object_43 = xRR(repetition4, repetition3, emotion, \"rater\", 'item_id\"')\n",
    "    \n",
    "    new_xrr = [xRR_object_41.kappa_x(), xRR_object_42.kappa_x(), xRR_object_43.kappa_x()]\n",
    "    xrr[emotion] = new_xrr\n",
    "    scores.append(new_xrr)\n",
    "    print(\"xRR score between International and Budapest raters:\", round(xRR_object_41.kappa_x(), 4))\n",
    "    print(\"xRR score between International and Mexico raters:\", round(xRR_object_42.kappa_x(), 4))\n",
    "    print(\"xRR score between International and KualaLumpur raters:\", round(xRR_object_43.kappa_x(), 4))"
   ]
  },
  {
   "cell_type": "code",
   "execution_count": 10,
   "metadata": {},
   "outputs": [
    {
     "data": {
      "image/png": "[encoded data removed]",
      "text/plain": [
       "<Figure size 1500x2000 with 2 Axes>"
      ]
     },
     "metadata": {},
     "output_type": "display_data"
    }
   ],
   "source": [
    "import seaborn as sns\n",
    "import matplotlib.pyplot as plt\n",
    "\n",
    "plt.subplots(figsize=(15,20))\n",
    "sns.heatmap(scores, center=0, annot=True,\n",
    "            fmt='.2f', square=True, cmap=\"Blues\", xticklabels=[\"R4 & R1\", \"R4 & R2\", \"R4 & R3\"],  yticklabels=emotions,\n",
    "            vmin=0.0, vmax=1.0)\n",
    "#ax.set_yticks([\"R1\", \"R2\", \"R3\", \"R4\", \"R5\"])\n",
    "plt.savefig(\"../plots/xRR_IRep.png\",  bbox_inches='tight', format='png', dpi=1200)\n",
    "plt.show()"
   ]
  }
 ],
 "metadata": {
  "colab": {
   "provenance": [],
   "toc_visible": true
  },
  "kernelspec": {
   "display_name": "Python 3 (ipykernel)",
   "language": "python",
   "name": "python3"
  },
  "language_info": {
   "codemirror_mode": {
    "name": "ipython",
    "version": 3
   },
   "file_extension": ".py",
   "mimetype": "text/x-python",
   "name": "python",
   "nbconvert_exporter": "python",
   "pygments_lexer": "ipython3",
   "version": "3.7.16"
  }
 },
 "nbformat": 4,
 "nbformat_minor": 1
}
